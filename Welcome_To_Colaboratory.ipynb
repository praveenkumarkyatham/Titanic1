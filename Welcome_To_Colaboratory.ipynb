{
  "nbformat": 4,
  "nbformat_minor": 0,
  "metadata": {
    "colab": {
      "name": "Welcome To Colaboratory",
      "provenance": [],
      "collapsed_sections": [],
      "toc_visible": true
    },
    "kernelspec": {
      "display_name": "Python 3",
      "name": "python3"
    }
  },
  "cells": [
    {
      "cell_type": "markdown",
      "metadata": {
        "id": "aMLsZ-2GxD3P",
        "colab_type": "text"
      },
      "source": [
        "This is about  Titanic ship disaster ,who were survived \n"
      ]
    },
    {
      "cell_type": "code",
      "metadata": {
        "id": "H43s4lrRxXRp",
        "colab_type": "code",
        "colab": {}
      },
      "source": [
        "#Importing all the needed libraries\n",
        "import numpy as np # linear algebra\n",
        "import pandas as pd # data processing, CSV file I/O (e.g. pd.read_csv)\n",
        "import matplotlib.pyplot as plt\n",
        "import seaborn as sns"
      ],
      "execution_count": 0,
      "outputs": []
    },
    {
      "cell_type": "code",
      "metadata": {
        "id": "bopbMxAAyHu9",
        "colab_type": "code",
        "colab": {
          "base_uri": "https://localhost:8080/",
          "height": 306
        },
        "outputId": "b9037291-7c98-4de3-a7f1-40fe281230fc"
      },
      "source": [
        "#reading the training and testing files\n",
        "train = pd.read_csv(\"/train.csv\")\n",
        "test = pd.read_csv(\"/test.csv\")\n",
        "#print the info of training dataset\n",
        "train.info()"
      ],
      "execution_count": 411,
      "outputs": [
        {
          "output_type": "stream",
          "text": [
            "<class 'pandas.core.frame.DataFrame'>\n",
            "RangeIndex: 891 entries, 0 to 890\n",
            "Data columns (total 12 columns):\n",
            "PassengerId    891 non-null int64\n",
            "Survived       891 non-null int64\n",
            "Pclass         891 non-null int64\n",
            "Name           891 non-null object\n",
            "Sex            891 non-null object\n",
            "Age            714 non-null float64\n",
            "SibSp          891 non-null int64\n",
            "Parch          891 non-null int64\n",
            "Ticket         891 non-null object\n",
            "Fare           891 non-null float64\n",
            "Cabin          204 non-null object\n",
            "Embarked       889 non-null object\n",
            "dtypes: float64(2), int64(5), object(5)\n",
            "memory usage: 83.6+ KB\n"
          ],
          "name": "stdout"
        }
      ]
    },
    {
      "cell_type": "code",
      "metadata": {
        "id": "Q_hHaOiwyk8D",
        "colab_type": "code",
        "colab": {
          "base_uri": "https://localhost:8080/",
          "height": 204
        },
        "outputId": "502dace5-92b0-437b-8af5-24d48864f98c"
      },
      "source": [
        "train.head()\n"
      ],
      "execution_count": 412,
      "outputs": [
        {
          "output_type": "execute_result",
          "data": {
            "text/html": [
              "<div>\n",
              "<style scoped>\n",
              "    .dataframe tbody tr th:only-of-type {\n",
              "        vertical-align: middle;\n",
              "    }\n",
              "\n",
              "    .dataframe tbody tr th {\n",
              "        vertical-align: top;\n",
              "    }\n",
              "\n",
              "    .dataframe thead th {\n",
              "        text-align: right;\n",
              "    }\n",
              "</style>\n",
              "<table border=\"1\" class=\"dataframe\">\n",
              "  <thead>\n",
              "    <tr style=\"text-align: right;\">\n",
              "      <th></th>\n",
              "      <th>PassengerId</th>\n",
              "      <th>Survived</th>\n",
              "      <th>Pclass</th>\n",
              "      <th>Name</th>\n",
              "      <th>Sex</th>\n",
              "      <th>Age</th>\n",
              "      <th>SibSp</th>\n",
              "      <th>Parch</th>\n",
              "      <th>Ticket</th>\n",
              "      <th>Fare</th>\n",
              "      <th>Cabin</th>\n",
              "      <th>Embarked</th>\n",
              "    </tr>\n",
              "  </thead>\n",
              "  <tbody>\n",
              "    <tr>\n",
              "      <th>0</th>\n",
              "      <td>1</td>\n",
              "      <td>0</td>\n",
              "      <td>3</td>\n",
              "      <td>Braund, Mr. Owen Harris</td>\n",
              "      <td>male</td>\n",
              "      <td>22.0</td>\n",
              "      <td>1</td>\n",
              "      <td>0</td>\n",
              "      <td>A/5 21171</td>\n",
              "      <td>7.2500</td>\n",
              "      <td>NaN</td>\n",
              "      <td>S</td>\n",
              "    </tr>\n",
              "    <tr>\n",
              "      <th>1</th>\n",
              "      <td>2</td>\n",
              "      <td>1</td>\n",
              "      <td>1</td>\n",
              "      <td>Cumings, Mrs. John Bradley (Florence Briggs Th...</td>\n",
              "      <td>female</td>\n",
              "      <td>38.0</td>\n",
              "      <td>1</td>\n",
              "      <td>0</td>\n",
              "      <td>PC 17599</td>\n",
              "      <td>71.2833</td>\n",
              "      <td>C85</td>\n",
              "      <td>C</td>\n",
              "    </tr>\n",
              "    <tr>\n",
              "      <th>2</th>\n",
              "      <td>3</td>\n",
              "      <td>1</td>\n",
              "      <td>3</td>\n",
              "      <td>Heikkinen, Miss. Laina</td>\n",
              "      <td>female</td>\n",
              "      <td>26.0</td>\n",
              "      <td>0</td>\n",
              "      <td>0</td>\n",
              "      <td>STON/O2. 3101282</td>\n",
              "      <td>7.9250</td>\n",
              "      <td>NaN</td>\n",
              "      <td>S</td>\n",
              "    </tr>\n",
              "    <tr>\n",
              "      <th>3</th>\n",
              "      <td>4</td>\n",
              "      <td>1</td>\n",
              "      <td>1</td>\n",
              "      <td>Futrelle, Mrs. Jacques Heath (Lily May Peel)</td>\n",
              "      <td>female</td>\n",
              "      <td>35.0</td>\n",
              "      <td>1</td>\n",
              "      <td>0</td>\n",
              "      <td>113803</td>\n",
              "      <td>53.1000</td>\n",
              "      <td>C123</td>\n",
              "      <td>S</td>\n",
              "    </tr>\n",
              "    <tr>\n",
              "      <th>4</th>\n",
              "      <td>5</td>\n",
              "      <td>0</td>\n",
              "      <td>3</td>\n",
              "      <td>Allen, Mr. William Henry</td>\n",
              "      <td>male</td>\n",
              "      <td>35.0</td>\n",
              "      <td>0</td>\n",
              "      <td>0</td>\n",
              "      <td>373450</td>\n",
              "      <td>8.0500</td>\n",
              "      <td>NaN</td>\n",
              "      <td>S</td>\n",
              "    </tr>\n",
              "  </tbody>\n",
              "</table>\n",
              "</div>"
            ],
            "text/plain": [
              "   PassengerId  Survived  Pclass  ...     Fare Cabin  Embarked\n",
              "0            1         0       3  ...   7.2500   NaN         S\n",
              "1            2         1       1  ...  71.2833   C85         C\n",
              "2            3         1       3  ...   7.9250   NaN         S\n",
              "3            4         1       1  ...  53.1000  C123         S\n",
              "4            5         0       3  ...   8.0500   NaN         S\n",
              "\n",
              "[5 rows x 12 columns]"
            ]
          },
          "metadata": {
            "tags": []
          },
          "execution_count": 412
        }
      ]
    },
    {
      "cell_type": "code",
      "metadata": {
        "id": "xhbGWfvEzLLA",
        "colab_type": "code",
        "colab": {}
      },
      "source": [
        "def get_max_hist_val(pc,ag):\n",
        "  \n",
        "  #find the histogram for age with respect to pclass\n",
        "  x1=[]\n",
        "  x2=[]\n",
        "  x3=[]\n",
        "  Pclass = pc\n",
        "  Age = ag\n",
        "  \n",
        "  for cnt,pcag in enumerate(zip(Pclass,Age,np.isfinite(Age))):\n",
        "    if(pcag[2]):\n",
        "      if(pcag[0]==1):\n",
        "        x1.append(pcag[1])\n",
        "      elif (pcag[0]==2):\n",
        "        x2.append(pcag[1])\n",
        "      else:\n",
        "        x3.append(pcag[1]) \n",
        "\n",
        "\n",
        "  hists=[np.histogram(x1),np.histogram(x2),np.histogram(x3)]\n",
        "\n",
        "  index_max = [np.argmax(hists[0][0]),np.argmax(hists[1][0]),np.argmax(hists[2][0])]\n",
        "\n",
        "  x1_max_cnt_age = [hists[0][1][index_max[0]],hists[1][1][index_max[1]],hists[2][1][index_max[2]]]\n",
        "  return x1_max_cnt_age\n",
        "\n",
        "ages_hists=get_max_hist_val(train.Pclass,train.Age)\n"
      ],
      "execution_count": 0,
      "outputs": []
    },
    {
      "cell_type": "code",
      "metadata": {
        "id": "R0np-O0sM_rg",
        "colab_type": "code",
        "colab": {}
      },
      "source": [
        "def update_age1(columns):\n",
        "  age=columns[0]\n",
        "  pclass=columns[1]\n",
        "  if(pd.isnull(age)):\n",
        "    if(pclass==1):\n",
        "      return ages_hists[0]\n",
        "    elif(pclass==2):\n",
        "      return ages_hists[1]\n",
        "    else:\n",
        "      return ages_hists[2]\n",
        "  else:\n",
        "      return age"
      ],
      "execution_count": 0,
      "outputs": []
    },
    {
      "cell_type": "code",
      "metadata": {
        "id": "HJ8o360r2NFg",
        "colab_type": "code",
        "colab": {}
      },
      "source": [
        "train['Age']=train[['Age', 'Pclass']].apply(update_age1, axis=1)"
      ],
      "execution_count": 0,
      "outputs": []
    },
    {
      "cell_type": "code",
      "metadata": {
        "id": "CMzCM-PZvyeP",
        "colab_type": "code",
        "colab": {}
      },
      "source": [
        "#Dropping the Cabin column\n",
        "train.drop('Cabin', axis=1, inplace=True)\n",
        "#Dropping the remaining rows with null values in them\n",
        "train.dropna(inplace=True)\n"
      ],
      "execution_count": 0,
      "outputs": []
    },
    {
      "cell_type": "code",
      "metadata": {
        "id": "QDsVmwwywZuv",
        "colab_type": "code",
        "colab": {}
      },
      "source": [
        "#Categorize the colums data\n",
        "\n",
        "pclass = pd.get_dummies(train['Pclass'],drop_first=True)\n",
        "sex = pd.get_dummies(train['Sex'],drop_first=True)\n",
        "embarked = pd.get_dummies(train['Embarked'],drop_first=True)\n",
        "\n",
        "#Combine the categorized colums with actual colums\n",
        "\n",
        "train=pd.concat([train,sex,embarked,pclass], axis=1)"
      ],
      "execution_count": 0,
      "outputs": []
    },
    {
      "cell_type": "code",
      "metadata": {
        "id": "uTaj6AwWx3Ch",
        "colab_type": "code",
        "colab": {}
      },
      "source": [
        "#Drop the colums which are used for categorization\n",
        "train.drop(['PassengerId','Pclass','Sex','Embarked','Ticket','Name'],axis=1,inplace=True)\n",
        "#claening process for the training data is done\n"
      ],
      "execution_count": 0,
      "outputs": []
    },
    {
      "cell_type": "code",
      "metadata": {
        "id": "p-Pw8c-G0qOl",
        "colab_type": "code",
        "colab": {}
      },
      "source": [
        "test['Fare'] = test['Fare'].fillna(test['Fare'].mean())"
      ],
      "execution_count": 0,
      "outputs": []
    },
    {
      "cell_type": "code",
      "metadata": {
        "id": "zJqfOTP_3dzC",
        "colab_type": "code",
        "colab": {
          "base_uri": "https://localhost:8080/",
          "height": 289
        },
        "outputId": "8780f445-ad34-42b1-cfed-074237d37757"
      },
      "source": [
        "test.info()"
      ],
      "execution_count": 420,
      "outputs": [
        {
          "output_type": "stream",
          "text": [
            "<class 'pandas.core.frame.DataFrame'>\n",
            "RangeIndex: 418 entries, 0 to 417\n",
            "Data columns (total 11 columns):\n",
            "PassengerId    418 non-null int64\n",
            "Pclass         418 non-null int64\n",
            "Name           418 non-null object\n",
            "Sex            418 non-null object\n",
            "Age            332 non-null float64\n",
            "SibSp          418 non-null int64\n",
            "Parch          418 non-null int64\n",
            "Ticket         418 non-null object\n",
            "Fare           418 non-null float64\n",
            "Cabin          91 non-null object\n",
            "Embarked       418 non-null object\n",
            "dtypes: float64(2), int64(4), object(5)\n",
            "memory usage: 36.0+ KB\n"
          ],
          "name": "stdout"
        }
      ]
    },
    {
      "cell_type": "code",
      "metadata": {
        "id": "3lceX3VQ492Y",
        "colab_type": "code",
        "colab": {}
      },
      "source": [
        "#update the Age parameter\n",
        "ages_hists=get_max_hist_val(test.Pclass,test.Age)\n",
        "test['Age']=test[['Age', 'Pclass']].apply(update_age1, axis=1)\n",
        "\n"
      ],
      "execution_count": 0,
      "outputs": []
    },
    {
      "cell_type": "code",
      "metadata": {
        "id": "EmdhOayr6vjt",
        "colab_type": "code",
        "colab": {}
      },
      "source": [
        "#Dropping the Cabin column\n",
        "test.drop('Cabin', axis=1, inplace=True)\n",
        "#Dropping the remaining rows with null values in them\n",
        "test.dropna(inplace=True)"
      ],
      "execution_count": 0,
      "outputs": []
    },
    {
      "cell_type": "code",
      "metadata": {
        "id": "IIuqgT8f60xc",
        "colab_type": "code",
        "colab": {}
      },
      "source": [
        "#Categorize the colums data\n",
        "\n",
        "pclass = pd.get_dummies(test['Pclass'],drop_first=True)\n",
        "sex = pd.get_dummies(test['Sex'],drop_first=True)\n",
        "embarked = pd.get_dummies(test['Embarked'],drop_first=True)\n",
        "\n",
        "#Combine the categorized colums with actual colums\n",
        "\n",
        "test=pd.concat([test,sex,embarked,pclass], axis=1)"
      ],
      "execution_count": 0,
      "outputs": []
    },
    {
      "cell_type": "code",
      "metadata": {
        "id": "ZXCFrg4_7GBt",
        "colab_type": "code",
        "colab": {}
      },
      "source": [
        "test_ids=test.iloc[:,0]\n",
        "#Drop the colums which are used for categorization\n",
        "test.drop(['PassengerId','Pclass','Sex','Embarked','Ticket','Name'],axis=1,inplace=True)\n",
        "\n"
      ],
      "execution_count": 0,
      "outputs": []
    },
    {
      "cell_type": "code",
      "metadata": {
        "id": "-jd8St207jBw",
        "colab_type": "code",
        "colab": {}
      },
      "source": [
        "#Prepare the training and testing sets\n",
        "#\n",
        "x_train = train.iloc[:,1:]\n",
        "y_train = train.iloc[:,0:1]\n",
        "x_test = test.iloc[:,:]\n",
        "\n",
        "\n"
      ],
      "execution_count": 0,
      "outputs": []
    },
    {
      "cell_type": "code",
      "metadata": {
        "id": "FgE6QbvUOPKd",
        "colab_type": "code",
        "colab": {
          "base_uri": "https://localhost:8080/",
          "height": 85
        },
        "outputId": "4935a2f8-2758-4efb-f82e-100288eb20fe"
      },
      "source": [
        "#Training and Predicting\n",
        "\n",
        "#logistic Regression\n",
        "from sklearn.linear_model import LogisticRegression\n",
        "logisticReg=LogisticRegression()\n",
        "logisticReg.fit(x_train,y_train)\n",
        "\n",
        "y_pred= logisticReg.predict(x_test)\n",
        "#accuracy\n",
        "accuracy = round(logisticReg.score(x_train, y_train) * 100, 2)\n",
        "\n",
        "#write them into the .csv\n",
        "df=pd.DataFrame(dict(PassengerId = test_ids, Survived = y_pred)).reset_index()\n",
        "df.drop('index', axis=1, inplace=True)\n",
        "df.to_csv('/logresult.csv', index=False)"
      ],
      "execution_count": 426,
      "outputs": [
        {
          "output_type": "stream",
          "text": [
            "/usr/local/lib/python3.6/dist-packages/sklearn/linear_model/logistic.py:432: FutureWarning: Default solver will be changed to 'lbfgs' in 0.22. Specify a solver to silence this warning.\n",
            "  FutureWarning)\n",
            "/usr/local/lib/python3.6/dist-packages/sklearn/utils/validation.py:724: DataConversionWarning: A column-vector y was passed when a 1d array was expected. Please change the shape of y to (n_samples, ), for example using ravel().\n",
            "  y = column_or_1d(y, warn=True)\n"
          ],
          "name": "stderr"
        }
      ]
    },
    {
      "cell_type": "code",
      "metadata": {
        "id": "jzP3Ep9VPXqa",
        "colab_type": "code",
        "colab": {
          "base_uri": "https://localhost:8080/",
          "height": 51
        },
        "outputId": "c51cd4e0-eb7c-4836-ff50-06f1f2375aaa"
      },
      "source": [
        "#Random foreset for training\n",
        "\n",
        "from sklearn.ensemble import RandomForestClassifier\n",
        "ranFor = RandomForestClassifier(n_estimators = 70)\n",
        "ranFor.fit(x_train,y_train)\n",
        "y_pred2= ranFor.predict(x_test)\n",
        "accuracy2 =round(ranFor.score(x_train, y_train)*100,2)\n",
        "df=pd.DataFrame(dict(PassengerId = test_ids, Survived = y_pred2)).reset_index()\n",
        "df.drop('index', axis=1, inplace=True)\n",
        "\n",
        "df.to_csv('/rfcresult.csv', index=False)\n"
      ],
      "execution_count": 427,
      "outputs": [
        {
          "output_type": "stream",
          "text": [
            "/usr/local/lib/python3.6/dist-packages/ipykernel_launcher.py:4: DataConversionWarning: A column-vector y was passed when a 1d array was expected. Please change the shape of y to (n_samples,), for example using ravel().\n",
            "  after removing the cwd from sys.path.\n"
          ],
          "name": "stderr"
        }
      ]
    },
    {
      "cell_type": "code",
      "metadata": {
        "id": "KP3Jrp8TP1QT",
        "colab_type": "code",
        "colab": {
          "base_uri": "https://localhost:8080/",
          "height": 102
        },
        "outputId": "8fb5735c-2b41-4804-fe84-c5b1c0f858fa"
      },
      "source": [
        "#Support vector machine\n",
        "\n",
        "from sklearn.svm import SVC\n",
        "svc=SVC()\n",
        "svc.fit(x_train, y_train)\n",
        "\n",
        "y_pred3=svc.predict(x_test)\n",
        "accuracy3=round(svc.score(x_train, y_train)*100,2)\n",
        "print(accuracy3)\n",
        "df=pd.DataFrame(dict(PassengerId = test_ids, Survived = y_pred2)).reset_index()\n",
        "df.drop('index', axis=1, inplace=True)\n",
        "\n",
        "df.to_csv('/svcresult.csv', index=False)"
      ],
      "execution_count": 428,
      "outputs": [
        {
          "output_type": "stream",
          "text": [
            "/usr/local/lib/python3.6/dist-packages/sklearn/utils/validation.py:724: DataConversionWarning: A column-vector y was passed when a 1d array was expected. Please change the shape of y to (n_samples, ), for example using ravel().\n",
            "  y = column_or_1d(y, warn=True)\n",
            "/usr/local/lib/python3.6/dist-packages/sklearn/svm/base.py:193: FutureWarning: The default value of gamma will change from 'auto' to 'scale' in version 0.22 to account better for unscaled features. Set gamma explicitly to 'auto' or 'scale' to avoid this warning.\n",
            "  \"avoid this warning.\", FutureWarning)\n"
          ],
          "name": "stderr"
        },
        {
          "output_type": "stream",
          "text": [
            "88.08\n"
          ],
          "name": "stdout"
        }
      ]
    }
  ]
}